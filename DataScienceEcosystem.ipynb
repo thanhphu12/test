{
 "cells": [
  {
   "cell_type": "markdown",
   "id": "b4e91fd9",
   "metadata": {},
   "source": [
    "# Data Science Tools and Ecosystem"
   ]
  },
  {
   "cell_type": "markdown",
   "id": "6bf44f4c",
   "metadata": {},
   "source": [
    "This is the mandatory introduction senctence for this summary notebook."
   ]
  },
  {
   "cell_type": "markdown",
   "id": "16fa7f47",
   "metadata": {},
   "source": [
    "**Objectives:**\n",
    "* popular languages in data science\n",
    "* data science packages in python\n",
    "* open source environments for data science\n",
    "* simple arithmetics in python"
   ]
  },
  {
   "cell_type": "markdown",
   "id": "5d57cc8b",
   "metadata": {},
   "source": [
    "Some popular data science languages:\n",
    "1.   python\n",
    "2.   R\n",
    "3.   SQL"
   ]
  },
  {
   "cell_type": "markdown",
   "id": "9c82666b",
   "metadata": {},
   "source": [
    "Some of the common python data science libraries:\n",
    "1. pandas\n",
    "2. matplotlib\n",
    "3. scikit learn"
   ]
  },
  {
   "cell_type": "markdown",
   "id": "d31d489f",
   "metadata": {},
   "source": [
    "\n",
    "| Data Science Tools |\n",
    "| --- |\n",
    "| R studio |\n",
    "| VS Code |\n",
    "| Jupyter Notebooks |"
   ]
  },
  {
   "cell_type": "markdown",
   "id": "61524185",
   "metadata": {},
   "source": [
    "### Below are a few examples of evaluating arithmetic expressions in Python"
   ]
  },
  {
   "cell_type": "code",
   "execution_count": 1,
   "id": "804090b1",
   "metadata": {},
   "outputs": [
    {
     "data": {
      "text/plain": [
       "17"
      ]
     },
     "execution_count": 1,
     "metadata": {},
     "output_type": "execute_result"
    }
   ],
   "source": [
    "# This a simple arithmetic expression to mutiply then add integers\n",
    "\n",
    "(3*4)+5"
   ]
  },
  {
   "cell_type": "code",
   "execution_count": 3,
   "id": "408fc59b",
   "metadata": {},
   "outputs": [
    {
     "name": "stdout",
     "output_type": "stream",
     "text": [
      "3.3333333333333335\n"
     ]
    }
   ],
   "source": [
    "# This will convert 200 minutes to hours by diving by 60\n",
    "\n",
    "time_h = 200.0\n",
    "\n",
    "time_s = time_h/60.0\n",
    "print(time_s)"
   ]
  },
  {
   "cell_type": "markdown",
   "id": "a913204b",
   "metadata": {},
   "source": [
    "## Author\n",
    "Marina Günthert"
   ]
  }
 ],
 "metadata": {
  "kernelspec": {
   "display_name": "Python 3",
   "language": "python",
   "name": "python3"
  },
  "language_info": {
   "codemirror_mode": {
    "name": "ipython",
    "version": 3
   },
   "file_extension": ".py",
   "mimetype": "text/x-python",
   "name": "python",
   "nbconvert_exporter": "python",
   "pygments_lexer": "ipython3",
   "version": "3.10.11"
  }
 },
 "nbformat": 4,
 "nbformat_minor": 5
}
